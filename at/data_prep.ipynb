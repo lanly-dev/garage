{
 "cells": [
  {
   "cell_type": "code",
   "execution_count": 4,
   "metadata": {},
   "outputs": [
    {
     "name": "stderr",
     "output_type": "stream",
     "text": [
      "[*********************100%***********************]  1 of 1 completed\n"
     ]
    }
   ],
   "source": [
    "# import yfinance as yf\n",
    "ticker = 'MSFT'\n",
    "df_ticker = yf.download(ticker)\n",
    "df_ticker.to_excel(f'data/{ticker}.xlsx')"
   ]
  },
  {
   "cell_type": "code",
   "execution_count": 7,
   "metadata": {},
   "outputs": [
    {
     "data": {
      "text/html": [
       "<div>\n",
       "<style scoped>\n",
       "    .dataframe tbody tr th:only-of-type {\n",
       "        vertical-align: middle;\n",
       "    }\n",
       "\n",
       "    .dataframe tbody tr th {\n",
       "        vertical-align: top;\n",
       "    }\n",
       "\n",
       "    .dataframe thead th {\n",
       "        text-align: right;\n",
       "    }\n",
       "</style>\n",
       "<table border=\"1\" class=\"dataframe\">\n",
       "  <thead>\n",
       "    <tr style=\"text-align: right;\">\n",
       "      <th></th>\n",
       "      <th>Open</th>\n",
       "      <th>High</th>\n",
       "      <th>Low</th>\n",
       "      <th>Close</th>\n",
       "      <th>Adj Close</th>\n",
       "      <th>Volume</th>\n",
       "      <th>change_tomorrow</th>\n",
       "    </tr>\n",
       "    <tr>\n",
       "      <th>Date</th>\n",
       "      <th></th>\n",
       "      <th></th>\n",
       "      <th></th>\n",
       "      <th></th>\n",
       "      <th></th>\n",
       "      <th></th>\n",
       "      <th></th>\n",
       "    </tr>\n",
       "  </thead>\n",
       "  <tbody>\n",
       "    <tr>\n",
       "      <th>2016-12-08</th>\n",
       "      <td>61.299999</td>\n",
       "      <td>61.580002</td>\n",
       "      <td>60.840000</td>\n",
       "      <td>61.009998</td>\n",
       "      <td>55.402447</td>\n",
       "      <td>21220800</td>\n",
       "      <td>1.549141</td>\n",
       "    </tr>\n",
       "    <tr>\n",
       "      <th>2016-12-09</th>\n",
       "      <td>61.180000</td>\n",
       "      <td>61.990002</td>\n",
       "      <td>61.130001</td>\n",
       "      <td>61.970001</td>\n",
       "      <td>56.274204</td>\n",
       "      <td>27349400</td>\n",
       "      <td>0.321694</td>\n",
       "    </tr>\n",
       "    <tr>\n",
       "      <th>2016-12-12</th>\n",
       "      <td>61.820000</td>\n",
       "      <td>62.299999</td>\n",
       "      <td>61.720001</td>\n",
       "      <td>62.169998</td>\n",
       "      <td>56.455830</td>\n",
       "      <td>20198100</td>\n",
       "      <td>1.286125</td>\n",
       "    </tr>\n",
       "    <tr>\n",
       "      <th>2016-12-13</th>\n",
       "      <td>62.500000</td>\n",
       "      <td>63.419998</td>\n",
       "      <td>62.240002</td>\n",
       "      <td>62.980000</td>\n",
       "      <td>57.191383</td>\n",
       "      <td>35718900</td>\n",
       "      <td>-0.478620</td>\n",
       "    </tr>\n",
       "    <tr>\n",
       "      <th>2016-12-14</th>\n",
       "      <td>63.000000</td>\n",
       "      <td>63.450001</td>\n",
       "      <td>62.529999</td>\n",
       "      <td>62.680000</td>\n",
       "      <td>56.918945</td>\n",
       "      <td>30352700</td>\n",
       "      <td>-0.159793</td>\n",
       "    </tr>\n",
       "    <tr>\n",
       "      <th>...</th>\n",
       "      <td>...</td>\n",
       "      <td>...</td>\n",
       "      <td>...</td>\n",
       "      <td>...</td>\n",
       "      <td>...</td>\n",
       "      <td>...</td>\n",
       "      <td>...</td>\n",
       "    </tr>\n",
       "    <tr>\n",
       "      <th>2024-08-29</th>\n",
       "      <td>414.940002</td>\n",
       "      <td>422.049988</td>\n",
       "      <td>410.600006</td>\n",
       "      <td>413.119995</td>\n",
       "      <td>413.119995</td>\n",
       "      <td>17045200</td>\n",
       "      <td>0.963710</td>\n",
       "    </tr>\n",
       "    <tr>\n",
       "      <th>2024-08-30</th>\n",
       "      <td>415.600006</td>\n",
       "      <td>417.489990</td>\n",
       "      <td>412.130005</td>\n",
       "      <td>417.140015</td>\n",
       "      <td>417.140015</td>\n",
       "      <td>24308300</td>\n",
       "      <td>-1.880620</td>\n",
       "    </tr>\n",
       "    <tr>\n",
       "      <th>2024-09-03</th>\n",
       "      <td>417.910004</td>\n",
       "      <td>419.880005</td>\n",
       "      <td>407.029999</td>\n",
       "      <td>409.440002</td>\n",
       "      <td>409.440002</td>\n",
       "      <td>20285900</td>\n",
       "      <td>-0.132064</td>\n",
       "    </tr>\n",
       "    <tr>\n",
       "      <th>2024-09-04</th>\n",
       "      <td>405.910004</td>\n",
       "      <td>411.239990</td>\n",
       "      <td>404.369995</td>\n",
       "      <td>408.899994</td>\n",
       "      <td>408.899994</td>\n",
       "      <td>15135800</td>\n",
       "      <td>-0.124876</td>\n",
       "    </tr>\n",
       "    <tr>\n",
       "      <th>2024-09-05</th>\n",
       "      <td>407.619995</td>\n",
       "      <td>413.100006</td>\n",
       "      <td>406.130005</td>\n",
       "      <td>408.390015</td>\n",
       "      <td>408.390015</td>\n",
       "      <td>14195500</td>\n",
       "      <td>-1.665423</td>\n",
       "    </tr>\n",
       "  </tbody>\n",
       "</table>\n",
       "<p>1947 rows × 7 columns</p>\n",
       "</div>"
      ],
      "text/plain": [
       "                  Open        High         Low       Close   Adj Close  \\\n",
       "Date                                                                     \n",
       "2016-12-08   61.299999   61.580002   60.840000   61.009998   55.402447   \n",
       "2016-12-09   61.180000   61.990002   61.130001   61.970001   56.274204   \n",
       "2016-12-12   61.820000   62.299999   61.720001   62.169998   56.455830   \n",
       "2016-12-13   62.500000   63.419998   62.240002   62.980000   57.191383   \n",
       "2016-12-14   63.000000   63.450001   62.529999   62.680000   56.918945   \n",
       "...                ...         ...         ...         ...         ...   \n",
       "2024-08-29  414.940002  422.049988  410.600006  413.119995  413.119995   \n",
       "2024-08-30  415.600006  417.489990  412.130005  417.140015  417.140015   \n",
       "2024-09-03  417.910004  419.880005  407.029999  409.440002  409.440002   \n",
       "2024-09-04  405.910004  411.239990  404.369995  408.899994  408.899994   \n",
       "2024-09-05  407.619995  413.100006  406.130005  408.390015  408.390015   \n",
       "\n",
       "              Volume  change_tomorrow  \n",
       "Date                                   \n",
       "2016-12-08  21220800         1.549141  \n",
       "2016-12-09  27349400         0.321694  \n",
       "2016-12-12  20198100         1.286125  \n",
       "2016-12-13  35718900        -0.478620  \n",
       "2016-12-14  30352700        -0.159793  \n",
       "...              ...              ...  \n",
       "2024-08-29  17045200         0.963710  \n",
       "2024-08-30  24308300        -1.880620  \n",
       "2024-09-03  20285900        -0.132064  \n",
       "2024-09-04  15135800        -0.124876  \n",
       "2024-09-05  14195500        -1.665423  \n",
       "\n",
       "[1947 rows x 7 columns]"
      ]
     },
     "execution_count": 7,
     "metadata": {},
     "output_type": "execute_result"
    }
   ],
   "source": [
    "# import pandas as pd\n",
    "\n",
    "df_microsoft = pd.read_excel('data/MSFT.xlsx', parse_dates=['Date'], index_col=0)\n",
    "df_microsoft_linkedin = df_microsoft.loc['2016-12-08':,:].copy()\n",
    "\n",
    "df_microsoft_linkedin['change_tomorrow'] = df_microsoft_linkedin.Close.pct_change(-1) * 100 * -1\n",
    "df_microsoft_linkedin = df_microsoft_linkedin.dropna().copy()\n",
    "df_microsoft_linkedin"
   ]
  },
  {
   "cell_type": "code",
   "execution_count": 12,
   "metadata": {},
   "outputs": [
    {
     "data": {
      "text/plain": [
       "change_tomorrow_direction\n",
       "UP      1044\n",
       "DOWN     903\n",
       "Name: count, dtype: int64"
      ]
     },
     "execution_count": 12,
     "metadata": {},
     "output_type": "execute_result"
    }
   ],
   "source": [
    "import numpy as np\n",
    "df_microsoft_linkedin['change_tomorrow_direction'] = np.where(\n",
    "    df_microsoft_linkedin.change_tomorrow > 0, 'UP', 'DOWN')\n",
    "df_microsoft_linkedin.change_tomorrow_direction.value_counts()"
   ]
  },
  {
   "cell_type": "code",
   "execution_count": 13,
   "metadata": {},
   "outputs": [
    {
     "data": {
      "text/plain": [
       "<Axes: xlabel='Date'>"
      ]
     },
     "execution_count": 13,
     "metadata": {},
     "output_type": "execute_result"
    },
    {
     "data": {
      "image/png": "[encoded data removed]",
      "text/plain": [
       "<Figure size 640x480 with 1 Axes>"
      ]
     },
     "metadata": {},
     "output_type": "display_data"
    }
   ],
   "source": [
    "df_microsoft_linkedin.Close.plot()"
   ]
  },
  {
   "cell_type": "code",
   "execution_count": null,
   "metadata": {},
   "outputs": [],
   "source": [
    "df_microsoft_linkedin.to_excel('data/Microsoft_LinkedIn_Processed.xlsx')"
   ]
  }
 ],
 "metadata": {
  "kernelspec": {
   "display_name": "Python 3",
   "language": "python",
   "name": "python3"
  },
  "language_info": {
   "codemirror_mode": {
    "name": "ipython",
    "version": 3
   },
   "file_extension": ".py",
   "mimetype": "text/x-python",
   "name": "python",
   "nbconvert_exporter": "python",
   "pygments_lexer": "ipython3",
   "version": "3.11.9"
  }
 },
 "nbformat": 4,
 "nbformat_minor": 2
}
