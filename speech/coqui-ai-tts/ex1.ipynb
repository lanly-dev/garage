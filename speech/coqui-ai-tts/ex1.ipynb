{
 "cells": [
  {
   "cell_type": "code",
   "execution_count": null,
   "metadata": {},
   "outputs": [],
   "source": [
    "import torch\n",
    "from TTS.api import TTS\n",
    "\n",
    "# Get device\n",
    "device = \"cuda\" if torch.cuda.is_available() else \"cpu\"\n",
    "\n",
    "# List available 🐸TTS models\n",
    "print(TTS().list_models())\n",
    "\n",
    "# Init TTS\n",
    "tts = TTS(\"tts_models/multilingual/multi-dataset/xtts_v2\").to(device)\n",
    "\n",
    "script = \"\"\"\n",
    "  Hey, have you heard about this new text-to-audio model called \"Bark\"?\n",
    "  Apparently, it's the most realistic and natural-sounding text-to-audio model\n",
    "  out there right now. People are saying it sounds just like a real person speaking.\n",
    "  I think it uses advanced machine learning algorithms to analyze and understand the\n",
    "  nuances of human speech, and then replicates those nuances in its own speech output.\n",
    "  It's pretty impressive, and I bet it could be used for things like audiobooks or podcasts.\n",
    "  In fact, I heard that some publishers are already starting to use Bark to create audiobooks.\n",
    "  It would be like having your own personal voiceover artist. I really think Bark is going to\n",
    "  be a game-changer in the world of text-to-audio technology.\n",
    "\"\"\".replace(\"\\n\", \" \").strip()\n",
    "\n",
    "# Run TTS\n",
    "# ❗ Since this model is multi-lingual voice cloning model, we must set the target speaker_wav and language\n",
    "# Text to speech list of amplitude values as output\n",
    "# wav = tts.tts(text=\"Hello world!\", speaker_wav=\"my/cloning/audio.wav\", language=\"en\")\n",
    "# Text to speech to a file\n",
    "tts.tts_to_file(text=script, speaker_wav=\"ref.wav\", language=\"en\", file_path=\"output.wav\")"
   ]
  }
 ],
 "metadata": {
  "kernelspec": {
   "display_name": "Python 3",
   "language": "python",
   "name": "python3"
  },
  "language_info": {
   "codemirror_mode": {
    "name": "ipython",
    "version": 3
   },
   "file_extension": ".py",
   "mimetype": "text/x-python",
   "name": "python",
   "nbconvert_exporter": "python",
   "pygments_lexer": "ipython3",
   "version": "3.11.9"
  }
 },
 "nbformat": 4,
 "nbformat_minor": 2
}
