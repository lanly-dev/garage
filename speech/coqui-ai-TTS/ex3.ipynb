{
 "cells": [
  {
   "cell_type": "markdown",
   "metadata": {},
   "source": [
    "https://coqui-tts.readthedocs.io/en/latest/inference.html#example-text-to-speech-using-fairseq-models-in-1100-languages"
   ]
  },
  {
   "cell_type": "code",
   "execution_count": null,
   "metadata": {},
   "outputs": [],
   "source": [
    "from TTS.api import TTS\n",
    "api = TTS(model_name=\"tts_models/eng/fairseq/vits\").to(\"cuda\")\n",
    "api.tts_to_file(\"This is a test.\", file_path=\"output.wav\")"
   ]
  },
  {
   "cell_type": "code",
   "execution_count": null,
   "metadata": {},
   "outputs": [],
   "source": [
    "# TTS with on the fly voice conversion\n",
    "api = TTS(\"tts_models/deu/fairseq/vits\")\n",
    "api.tts_with_vc_to_file(\n",
    "    \"Wie sage ich auf Italienisch, dass ich dich liebe?\",\n",
    "    speaker_wav=\"ref-a-cut.wav\",\n",
    "    file_path=\"ouptut.wav\"\n",
    ")"
   ]
  },
  {
   "cell_type": "code",
   "execution_count": null,
   "metadata": {},
   "outputs": [],
   "source": [
    "# TTS with on the fly voice conversion\n",
    "api = TTS(\"tts_models/vie/fairseq/vits\")\n",
    "\n",
    "script = \"\"\"\n",
    "  Người ta đi cấy lấy công,\n",
    "  Tôi nay đi cấy còn trông nhiều bề.\n",
    "  Trông trời, trông đất, trông mây,\n",
    "  Trông mưa, trông nắng, trông ngày, trông đêm.\n",
    "  Trông cho chân cứng đá mềm,\n",
    "  Trời yên biển lặng mới yên tấm lòng.\n",
    "\"\"\"\n",
    "api.tts_with_vc_to_file(script,\n",
    "    speaker_wav=\"ref-a-cut.wav\",\n",
    "    file_path=\"output-vie.wav\"\n",
    ")"
   ]
  }
 ],
 "metadata": {
  "kernelspec": {
   "display_name": "Python 3",
   "language": "python",
   "name": "python3"
  },
  "language_info": {
   "codemirror_mode": {
    "name": "ipython",
    "version": 3
   },
   "file_extension": ".py",
   "mimetype": "text/x-python",
   "name": "python",
   "nbconvert_exporter": "python",
   "pygments_lexer": "ipython3",
   "version": "3.11.9"
  }
 },
 "nbformat": 4,
 "nbformat_minor": 2
}
