{
 "cells": [
  {
   "cell_type": "code",
   "execution_count": null,
   "metadata": {},
   "outputs": [],
   "source": [
    "import torchaudio\n",
    "import torch\n",
    "from openunmix import predict\n",
    "\n",
    "# Check if GPU is available\n",
    "device = torch.device(\"cuda\" if torch.cuda.is_available() else \"cpu\")\n",
    "\n",
    "# Load audio file\n",
    "waveform, sample_rate = torchaudio.load(\"song.wav\")\n",
    "\n",
    "# Run separation on GPU\n",
    "estimates = predict.separate(waveform, rate=sample_rate, device=device)\n",
    "\n",
    "vocals = estimates['vocals'].squeeze(0).cpu()\n",
    "# Save the separated sources\n",
    "torchaudio.save(\"vocals.wav\", vocals, sample_rate)\n"
   ]
  }
 ],
 "metadata": {
  "kernelspec": {
   "display_name": "Python 3",
   "language": "python",
   "name": "python3"
  },
  "language_info": {
   "codemirror_mode": {
    "name": "ipython",
    "version": 3
   },
   "file_extension": ".py",
   "mimetype": "text/x-python",
   "name": "python",
   "nbconvert_exporter": "python",
   "pygments_lexer": "ipython3",
   "version": "3.11.9"
  }
 },
 "nbformat": 4,
 "nbformat_minor": 2
}
